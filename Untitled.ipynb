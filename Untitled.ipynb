{
 "cells": [
  {
   "cell_type": "code",
   "execution_count": 70,
   "metadata": {},
   "outputs": [
    {
     "name": "stdout",
     "output_type": "stream",
     "text": [
      "введите года (через запятую), топ 3 имен которых хотите просмотреть:1990,1890\n",
      "                  Count\n",
      "Year Names             \n",
      "1990 Michael      65290\n",
      "     Christopher  52336\n",
      "     Jessica      46475\n",
      "1890 Mary         12078\n",
      "     John          8502\n",
      "     William       7494\n",
      "               Count\n",
      "Gender Year         \n",
      "F      1890   190376\n",
      "       1990  1898135\n",
      "M      1890   111025\n",
      "       1990  2053109\n"
     ]
    }
   ],
   "source": [
    "import pandas as pd\n",
    "\n",
    "\n",
    "def from_string_to_list(date):\n",
    "    new_list = date.split(',')\n",
    "    return new_list\n",
    "\n",
    "\n",
    "def year_generate(year_list):\n",
    "    index = 0\n",
    "    year_list_len = len(year_list)\n",
    "    while year_list_len != 0:\n",
    "        yield int(year_list[index])\n",
    "        index += 1\n",
    "        year_list_len -= 1\n",
    "\n",
    "def read_files(year_list):\n",
    "    list_of_dataframes = []\n",
    "    year = year_generate(year_list)\n",
    "    for i in year:\n",
    "        data = pd.read_csv(f'yob{str(i)}.txt', names = ['Names', 'Gender', 'Count'])\n",
    "        data['Year'] = i\n",
    "        list_of_dataframes.append(data)\n",
    "            \n",
    "    df_result = pd.concat(list_of_dataframes)\n",
    "    return df_result\n",
    "\n",
    "\n",
    "def top(df, list_of_years):\n",
    "    list_of_dataframes = []\n",
    "    for i in list_of_years:\n",
    "        ndf = df[df['Year'] == int(i)].sort_values('Count', ascending = False).head(3)\n",
    "        list_of_dataframes.append(ndf)\n",
    "    df_result = pd.concat(list_of_dataframes)\n",
    "    df_result = df_result.groupby(['Year', 'Names']).sum().sort_values('Count', ascending = False)\n",
    "    print(df_result[['Count']])\n",
    "\n",
    "def Dinamic_count(df):\n",
    "    ndf = df.groupby(['Gender', 'Year']).sum()[['Count']]\n",
    "    print(ndf)\n",
    "\n",
    "\n",
    "#begin\n",
    "date = input('введите года (через запятую), топ 3 имен которых хотите просмотреть:')\n",
    "df = read_files(from_string_to_list(date))\n",
    "\n",
    "df.reset_index(inplace = True)\n",
    "top(df, from_string_to_list(date))\n",
    "Dinamic_count(df)\n",
    "\n",
    "\n",
    "     "
   ]
  },
  {
   "cell_type": "markdown",
   "metadata": {},
   "source": [
    "     "
   ]
  },
  {
   "cell_type": "markdown",
   "metadata": {},
   "source": [
    " "
   ]
  },
  {
   "cell_type": "code",
   "execution_count": null,
   "metadata": {},
   "outputs": [],
   "source": []
  },
  {
   "cell_type": "code",
   "execution_count": null,
   "metadata": {},
   "outputs": [],
   "source": []
  },
  {
   "cell_type": "code",
   "execution_count": null,
   "metadata": {},
   "outputs": [],
   "source": []
  }
 ],
 "metadata": {
  "kernelspec": {
   "display_name": "Python 3",
   "language": "python",
   "name": "python3"
  },
  "language_info": {
   "codemirror_mode": {
    "name": "ipython",
    "version": 3
   },
   "file_extension": ".py",
   "mimetype": "text/x-python",
   "name": "python",
   "nbconvert_exporter": "python",
   "pygments_lexer": "ipython3",
   "version": "3.7.6"
  }
 },
 "nbformat": 4,
 "nbformat_minor": 4
}
