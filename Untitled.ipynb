{
 "cells": [
  {
   "cell_type": "code",
   "execution_count": 1,
   "metadata": {},
   "outputs": [
    {
     "name": "stdout",
     "output_type": "stream",
     "text": [
      "введите года (через запятую), топ 3 имен которых хотите просмотреть1990,1890\n",
      "             Names  Count  Year\n",
      "15232      Michael  65290  1990\n",
      "15233  Christopher  52336  1990\n",
      "0          Jessica  46475  1990\n",
      "               Count\n",
      "Gender Year         \n",
      "F      1890   190376\n",
      "       1990  1898135\n",
      "M      1890   111025\n",
      "       1990  2053109\n"
     ]
    }
   ],
   "source": [
    "import pandas as pd\n",
    "\n",
    "\n",
    "def from_string_to_list(date):\n",
    "    new_list = date.split(',')\n",
    "    return new_list\n",
    "\n",
    "\n",
    "def year_generate(year_list):\n",
    "    index = 0\n",
    "    year_list_len = len(year_list)\n",
    "    while year_list_len != 0:\n",
    "        yield int(year_list[index])\n",
    "        index += 1\n",
    "        year_list_len -= 1\n",
    "\n",
    "def read_files(year_list):\n",
    "    list_of_dataframes = []\n",
    "    year = year_generate(year_list)\n",
    "    for i in year:\n",
    "        data = pd.read_csv(f'yob{str(i)}.txt', names = ['Names', 'Gender', 'Count'])\n",
    "        data['Year'] = i\n",
    "        list_of_dataframes.append(data)\n",
    "            \n",
    "    df_result = pd.concat(list_of_dataframes)\n",
    "    return df_result\n",
    "\n",
    "\n",
    "def top(df):\n",
    "    ndf = df.sort_values('Count',ascending = False) \n",
    "    print(ndf.head(3)[['Names','Count','Year']])\n",
    "    \n",
    "    \n",
    "def Dinamic_count(df):\n",
    "    ndf = df.groupby(['Gender', 'Year']).sum()[['Count']]\n",
    "    print(ndf)\n",
    "\n",
    "\n",
    "#begin\n",
    "date = input('введите года (через запятую), топ 3 имен которых хотите просмотреть:')\n",
    "df = read_files(from_string_to_list(date))\n",
    "df.reset_index(inplace = True)\n",
    "top(df)\n",
    "Dinamic_count(df)\n",
    "\n",
    "\n",
    "     "
   ]
  },
  {
   "cell_type": "markdown",
   "metadata": {},
   "source": [
    "     "
   ]
  },
  {
   "cell_type": "code",
   "execution_count": 16,
   "metadata": {},
   "outputs": [],
   "source": []
  },
  {
   "cell_type": "code",
   "execution_count": null,
   "metadata": {},
   "outputs": [],
   "source": []
  },
  {
   "cell_type": "code",
   "execution_count": null,
   "metadata": {},
   "outputs": [],
   "source": []
  },
  {
   "cell_type": "code",
   "execution_count": null,
   "metadata": {},
   "outputs": [],
   "source": []
  }
 ],
 "metadata": {
  "kernelspec": {
   "display_name": "Python 3",
   "language": "python",
   "name": "python3"
  },
  "language_info": {
   "codemirror_mode": {
    "name": "ipython",
    "version": 3
   },
   "file_extension": ".py",
   "mimetype": "text/x-python",
   "name": "python",
   "nbconvert_exporter": "python",
   "pygments_lexer": "ipython3",
   "version": "3.7.6"
  }
 },
 "nbformat": 4,
 "nbformat_minor": 4
}
